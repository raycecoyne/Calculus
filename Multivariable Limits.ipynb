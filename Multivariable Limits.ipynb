{
 "cells": [
  {
   "cell_type": "code",
   "execution_count": 6,
   "metadata": {},
   "outputs": [],
   "source": [
    "from sympy import *"
   ]
  },
  {
   "cell_type": "code",
   "execution_count": 22,
   "metadata": {},
   "outputs": [
    {
     "name": "stdout",
     "output_type": "stream",
     "text": [
      "1\n"
     ]
    }
   ],
   "source": [
    "#testing limit of single variable\n",
    "x = symbols('x')\n",
    "f = cos(x)\n",
    "y = limit(f,x,0)\n",
    "print(y)"
   ]
  },
  {
   "cell_type": "code",
   "execution_count": 66,
   "metadata": {},
   "outputs": [],
   "source": [
    "#multivariable limit\n",
    "import math\n",
    "x, y = symbols('x, y')\n",
    "f = (x**2-y**2) / (2*x**2 + y**2)\n",
    "\n",
    "#lim as x,y approaches 0,0"
   ]
  },
  {
   "cell_type": "code",
   "execution_count": 77,
   "metadata": {},
   "outputs": [
    {
     "name": "stdout",
     "output_type": "stream",
     "text": [
      "limit from x=0: -1\n",
      "limit from y=0: 1/2\n",
      "limit exists: False\n"
     ]
    }
   ],
   "source": [
    "#Strat 1: move along x=0, y=0\n",
    "#Always try to use at least one of these\n",
    "\n",
    "#move along x=0\n",
    "sub = f.subs(x, 0)\n",
    "limX = limit(sub,y,0)\n",
    "print(\"limit from x=0: %s\" %limX)\n",
    "\n",
    "#move along y=0\n",
    "sub = f.subs(y, 0)\n",
    "limY = limit(sub,x,0)\n",
    "print(\"limit from y=0: %s\" %limY)\n",
    "\n",
    "exists = (limX == limY)\n",
    "print(\"limit exists: %s\" % exists)"
   ]
  },
  {
   "cell_type": "code",
   "execution_count": 84,
   "metadata": {},
   "outputs": [
    {
     "name": "stdout",
     "output_type": "stream",
     "text": [
      "limit from x=y: 3/4\n",
      "limit from x=y: 6/7\n",
      "limit exists: False\n"
     ]
    }
   ],
   "source": [
    "#Strat 2: move along some other path passing through point\n",
    "#try to equalize degrees on numerator and denominator\n",
    "\n",
    "#move along y = x\n",
    "sub = f.subs(x, y)\n",
    "lim1 = limit(sub,y,0)\n",
    "print(\"limit from x=y: %s\" %lim1)\n",
    "\n",
    "#move along y = 2x\n",
    "sub = f.subs(y, (x*2))\n",
    "lim2 = limit(sub,x,0)\n",
    "print(\"limit from x=y: %s\" % lim2)\n",
    "\n",
    "exists = (lim1 == lim2)\n",
    "print(\"limit exists: %s\" % exists)"
   ]
  },
  {
   "cell_type": "code",
   "execution_count": 89,
   "metadata": {},
   "outputs": [
    {
     "name": "stdout",
     "output_type": "stream",
     "text": [
      "limit from x=0: 0\n",
      "limit from y=0: 0\n",
      "limit exists: True\n",
      "-----------------------\n",
      "limit from x=y: 3/4\n",
      "limit from y=0: 0\n",
      "limit exists: False\n"
     ]
    }
   ],
   "source": [
    "#Test Case \n",
    "x, y = symbols('x, y')\n",
    "f = (3*x*y) / (3*x**2 + y**2)\n",
    "\n",
    "#lim as x,y approaches 0,0\n",
    "#move along x=0\n",
    "sub = f.subs(x, 0)\n",
    "limX = limit(sub,y,0)\n",
    "print(\"limit from x=0: %s\" %limX)\n",
    "\n",
    "#move along y=0\n",
    "sub = f.subs(y, 0)\n",
    "limY = limit(sub,x,0)\n",
    "print(\"limit from y=0: %s\" %limY)\n",
    "\n",
    "exists = (limX == limY)\n",
    "print(\"limit exists: %s\" % exists)\n",
    "print('-----------------------')\n",
    "\n",
    "#move along y = x\n",
    "sub = f.subs(x, y)\n",
    "lim1 = limit(sub,y,0)\n",
    "print(\"limit from x=y: %s\" %lim1)\n",
    "\n",
    "#move along y = 0\n",
    "sub = f.subs(y, 0)\n",
    "lim2 = limit(sub,x,0)\n",
    "print(\"limit from y=0: %s\" % lim2)\n",
    "\n",
    "exists = (lim1 == lim2)\n",
    "print(\"limit exists: %s\" % exists)"
   ]
  },
  {
   "cell_type": "code",
   "execution_count": 162,
   "metadata": {},
   "outputs": [],
   "source": [
    "def testLimits(f, limVars, subs = []):\n",
    "    sub = f\n",
    "    variables = [x,y,z]\n",
    "    \n",
    "    paths = \"Paths: \"\n",
    "    \n",
    "    for idx, s in enumerate(subs):\n",
    "        sub = sub.subs(variables[idx], s)\n",
    "        paths = paths + (\"%s=%s\" % (variables[idx], s)) + \"; \"\n",
    "    \n",
    "    lim = limit(sub,limVars[0], limVars[1])\n",
    "    print(paths)\n",
    "    print(\"After substitution: %s\" % sub)\n",
    "    print(\"Limit as %s->%s: %s\" % (limVars[0], limVars[1], lim))\n",
    "    print(\"=\" * 40)\n"
   ]
  },
  {
   "cell_type": "code",
   "execution_count": 165,
   "metadata": {},
   "outputs": [
    {
     "name": "stdout",
     "output_type": "stream",
     "text": [
      "x*y**3*cos(x)/(2*x**2 + y**6)\n",
      "Paths: x=0; \n",
      "After substitution: 0\n",
      "Limit as y->0: 0\n",
      "========================================\n",
      "Paths: x=y**3; \n",
      "After substitution: cos(y**3)/3\n",
      "Limit as y->0: 1/3\n",
      "========================================\n",
      " \n",
      "2*x*y/(x**2 - 2*x + y**2 + 1)\n",
      "Paths: x=1; \n",
      "After substitution: 2/y\n",
      "Limit as y->0: oo\n",
      "========================================\n",
      "Paths: x=x; y=x - 1; \n",
      "After substitution: 2*x*(x - 1)/(x**2 - 2*x + (x - 1)**2 + 1)\n",
      "Limit as x->0: 0\n",
      "========================================\n",
      "\n",
      "(x*y + x*z + y*z)/(x**2 + y**2 + z**2)\n",
      "Paths: x=0; y=0; z=z; \n",
      "After substitution: 0\n",
      "Limit as z->0: 0\n",
      "========================================\n",
      "Paths: x=t; y=t; z=t; \n",
      "After substitution: 1\n",
      "Limit as t->0: 1\n",
      "========================================\n",
      "Paths: x=x; y=x; z=z; \n",
      "After substitution: (x**2 + 2*x*z)/(2*x**2 + z**2)\n",
      "Limit as z->0: 1/2\n",
      "========================================\n"
     ]
    }
   ],
   "source": [
    "f = (x*y**3*cos(x)) / (2*x**2 + y**6)\n",
    "print(f)\n",
    "testLimits(f,[y,0], [0])\n",
    "testLimits(f,[y,0], [y**3])\n",
    "\n",
    "print(\" \")\n",
    "f = (2*x*y) / (x**2 + y**2 - 2*x + 1)\n",
    "cases = []\n",
    "cases.append([x,1,y,0])\n",
    "cases.append([y,(x-1),x,0])\n",
    "print(f)\n",
    "testLimits(f,[y,0], [1])\n",
    "testLimits(f,[x,0], [x,(x-1)])\n",
    "\n",
    "print(\"\")\n",
    "x, y, z, t = symbols('x, y, z, t')\n",
    "f = (x*y + y*z + x*z) / (x**2 + y**2 + z**2)\n",
    "\n",
    "print(f)\n",
    "testLimits(f,[z,0], [0,0,z])\n",
    "testLimits(f,[t,0], [t,t,t])\n",
    "testLimits(f,[z,0], [x,x,z])\n"
   ]
  }
 ],
 "metadata": {
  "kernelspec": {
   "display_name": "Python 3 (ipykernel)",
   "language": "python",
   "name": "python3"
  },
  "language_info": {
   "codemirror_mode": {
    "name": "ipython",
    "version": 3
   },
   "file_extension": ".py",
   "mimetype": "text/x-python",
   "name": "python",
   "nbconvert_exporter": "python",
   "pygments_lexer": "ipython3",
   "version": "3.9.12"
  }
 },
 "nbformat": 4,
 "nbformat_minor": 2
}
