{
 "cells": [
  {
   "cell_type": "code",
   "execution_count": 1,
   "id": "97a9b6be",
   "metadata": {},
   "outputs": [],
   "source": [
    "from sympy import *"
   ]
  },
  {
   "cell_type": "raw",
   "id": "07e489d6",
   "metadata": {},
   "source": [
    "Derivative = slope of the tangent line at a point\n",
    "In 3d, there are infinitely many curves at a given point so infinitely many tangent lines\n",
    "\n",
    "To find the slope of the tangent line, we need to specify a direction: x or y direction\n",
    "\n",
    "Said another way, we need the slope of the tangent line thats contained in a plane parallel to X/Z or Y/Z\n",
    "This effectively holds one variable constant:\n",
    "    in X/Z, holding y constant (Y = some constant)\n",
    "    in Y/Z, holding x constant (X = some constant)\n",
    "\n",
    "\n"
   ]
  },
  {
   "cell_type": "code",
   "execution_count": 12,
   "id": "d8201e69",
   "metadata": {},
   "outputs": [
    {
     "name": "stdout",
     "output_type": "stream",
     "text": [
      "4*x*y**3 - 6*x*y + 2\n",
      "6*x**2*y**2 - 3*x**2 + 6*y\n"
     ]
    }
   ],
   "source": [
    "#sympy derivative\n",
    "x = symbols('x')\n",
    "y = symbols('y')\n",
    "f = 2*x**2*y**3 - 3*x**2*y+2*x + 3*y**2\n",
    "print(diff(f,x))\n",
    "print(diff(f,y))"
   ]
  },
  {
   "cell_type": "raw",
   "id": "94c330ed",
   "metadata": {},
   "source": [
    "Implicit Derivative \n",
    "x+y+z = 0, z = f(x,y)\n",
    "\n",
    "    Derivative should be calculated in terms of dz/dx or dz/dy\n",
    "\n",
    "Alternatively, implicit function theorem says\n",
    "    dz/dx = -df/dx / df/dz\n"
   ]
  },
  {
   "cell_type": "code",
   "execution_count": null,
   "id": "7edf8180",
   "metadata": {},
   "outputs": [],
   "source": [
    "x = symbols('x')\n",
    "y = symbols('y')\n",
    "z = symbols('z')\n",
    "f = x**2*y + x*z + y*z**2"
   ]
  },
  {
   "cell_type": "code",
   "execution_count": 42,
   "id": "45af01d1",
   "metadata": {},
   "outputs": [
    {
     "name": "stdout",
     "output_type": "stream",
     "text": [
      "Using Sympy idiff\n",
      "(-2*x*y - z)/(x + 2*y*z)\n",
      "(-x**2 - z**2)/(x + 2*y*z)\n",
      "====================\n",
      "Using Implicit Function Theorem\n",
      "(-2*x*y - z)/(x + 2*y*z)\n",
      "(-x**2 - z**2)/(x + 2*y*z)\n",
      "====================\n",
      "True\n",
      "True\n"
     ]
    }
   ],
   "source": [
    "#sympy implicit derivative\n",
    "pDiffX = idiff(f,z,x)\n",
    "pDiffY = idiff(f,z,y)\n",
    "\n",
    "dfdx = diff(f,x)\n",
    "dfdy = diff(f,y)\n",
    "dfdz = diff(f,z)\n",
    "\n",
    "print(\"Using Sympy idiff\")\n",
    "print(pDiffX)\n",
    "print(pDiffY)\n",
    "print(\"=\"*20)\n",
    "\n",
    "print(\"Using Implicit Function Theorem\")\n",
    "xRule = -dfdx / dfdz\n",
    "yRule = -dfdy / dfdz\n",
    "print(xRule)\n",
    "print(yRule)\n",
    "print(\"=\"*20)\n",
    "print(xRule == pDiffX)\n",
    "print(yRule == pDiffY)"
   ]
  },
  {
   "cell_type": "raw",
   "id": "d20fa882",
   "metadata": {},
   "source": [
    "Higher order derivatives - mixed partials are ALWAYS equal"
   ]
  },
  {
   "cell_type": "code",
   "execution_count": 50,
   "id": "ce422445",
   "metadata": {},
   "outputs": [
    {
     "name": "stdout",
     "output_type": "stream",
     "text": [
      "dfdx = 2*x*y + z\n",
      "dfdy = x**2 + z**2\n",
      "====================\n",
      "dxy = dyx\n",
      "2*x = 2*x\n"
     ]
    }
   ],
   "source": [
    "print(\"dfdx = {}\".format(dfdx))\n",
    "print(\"dfdy = {}\".format(dfdy))\n",
    "print(\"=\"*20)\n",
    "\n",
    "dxy = diff(dfdx,y)\n",
    "dyx = diff(dfdy,x)\n",
    "print(\"dxy = dyx\")\n",
    "print(\"{} = {}\".format(dyx, dxy))"
   ]
  },
  {
   "cell_type": "code",
   "execution_count": null,
   "id": "840b8fee",
   "metadata": {},
   "outputs": [],
   "source": []
  }
 ],
 "metadata": {
  "kernelspec": {
   "display_name": "Python 3 (ipykernel)",
   "language": "python",
   "name": "python3"
  },
  "language_info": {
   "codemirror_mode": {
    "name": "ipython",
    "version": 3
   },
   "file_extension": ".py",
   "mimetype": "text/x-python",
   "name": "python",
   "nbconvert_exporter": "python",
   "pygments_lexer": "ipython3",
   "version": "3.9.12"
  }
 },
 "nbformat": 4,
 "nbformat_minor": 5
}
